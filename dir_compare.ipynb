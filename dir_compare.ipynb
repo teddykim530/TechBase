{
 "cells": [
  {
   "cell_type": "code",
   "execution_count": 1,
   "id": "7198f2fb",
   "metadata": {},
   "outputs": [
    {
     "data": {
      "text/plain": [
       "{'blake2b',\n",
       " 'blake2s',\n",
       " 'md4',\n",
       " 'md5',\n",
       " 'md5-sha1',\n",
       " 'mdc2',\n",
       " 'ripemd160',\n",
       " 'sha1',\n",
       " 'sha224',\n",
       " 'sha256',\n",
       " 'sha384',\n",
       " 'sha3_224',\n",
       " 'sha3_256',\n",
       " 'sha3_384',\n",
       " 'sha3_512',\n",
       " 'sha512',\n",
       " 'sha512_224',\n",
       " 'sha512_256',\n",
       " 'shake_128',\n",
       " 'shake_256',\n",
       " 'sm3',\n",
       " 'whirlpool'}"
      ]
     },
     "execution_count": 1,
     "metadata": {},
     "output_type": "execute_result"
    }
   ],
   "source": [
    "import hashlib\n",
    "hashlib.algorithms_available"
   ]
  },
  {
   "cell_type": "code",
   "execution_count": 3,
   "id": "649b2150",
   "metadata": {},
   "outputs": [
    {
     "name": "stdout",
     "output_type": "stream",
     "text": [
      "8c06c6bc1af6dfe7ed032e2e0b08fcd41d55fb9017496135f5b1d2ec227f1c7b\n"
     ]
    }
   ],
   "source": [
    "path = \"C:\\\\Users\\\\teddy\\\\TechBase\\\\sisinfo.exe\" \n",
    "getHash(path)"
   ]
  },
  {
   "cell_type": "code",
   "execution_count": 117,
   "id": "c46939eb",
   "metadata": {},
   "outputs": [
    {
     "name": "stdout",
     "output_type": "stream",
     "text": [
      "exe file list: ['filelist.exe', 'sisinfo.exe']\n"
     ]
    }
   ],
   "source": [
    "# prototyping\n",
    "import os\n",
    "\n",
    "path = \"C:/Users/teddy/files\"\n",
    "file_list = os.listdir(path)\n",
    "file_list_exe = [file for file in file_list if file.endswith(\".exe\")]\n",
    "\n",
    "print (\"exe file list: {}\".format(file_list_exe))"
   ]
  },
  {
   "cell_type": "code",
   "execution_count": 116,
   "id": "e872830e",
   "metadata": {},
   "outputs": [
    {
     "name": "stdout",
     "output_type": "stream",
     "text": [
      "['filelist.exe', 'sisinfo.exe', 'testtest.txt']\n"
     ]
    }
   ],
   "source": [
    "# prototyping\n",
    "\n",
    "import os\n",
    "import os.path\n",
    "\n",
    "path = \"C:\\\\Users\\\\teddy\\\\files\"\n",
    "file_list = os.listdir(path)\n",
    "\n",
    "print(file_list)"
   ]
  },
  {
   "cell_type": "code",
   "execution_count": 112,
   "id": "c530b3d4",
   "metadata": {},
   "outputs": [],
   "source": [
    "# prototyping\n",
    "\n",
    "import hashlib\n",
    "\n",
    "def sha(filepath, blocksize=8192):\n",
    "    sha_1 = hashlib.sha1()\n",
    "    try:\n",
    "        f = open(filepath, \"rb\")\n",
    "    except IOError as e:\n",
    "        print(\"file open error\", e)\n",
    "        return\n",
    "    while True:\n",
    "        buf = f.read(blocksize)\n",
    "        if not buf:\n",
    "            break\n",
    "        sha_1.update(buf)\n",
    "    return sha_1.hexdigest()"
   ]
  },
  {
   "cell_type": "code",
   "execution_count": 113,
   "id": "8065039c",
   "metadata": {},
   "outputs": [
    {
     "data": {
      "text/plain": [
       "'b05eec1a5acedda1b4162f4167cb0500747c59e4'"
      ]
     },
     "execution_count": 113,
     "metadata": {},
     "output_type": "execute_result"
    }
   ],
   "source": [
    "sha(\"C:\\\\Users\\\\teddy\\\\files\\\\sisinfo.exe\")"
   ]
  },
  {
   "cell_type": "code",
   "execution_count": 176,
   "id": "5eff7698",
   "metadata": {},
   "outputs": [
    {
     "name": "stdout",
     "output_type": "stream",
     "text": [
      "C:\\Users\\teddy\\files1\\filelist.exe\n",
      "C:\\Users\\teddy\\files1\\sisinfo.exe\n",
      "None\n"
     ]
    }
   ],
   "source": [
    "import pathlib\n",
    "path1 = \"C:\\\\Users\\\\teddy\\\\files1\"\n",
    "path2 = \"C:\\\\Users\\\\teddy\\\\files2\"\n",
    "\n",
    "def search(dirname):\n",
    "    for p in pathlib.Path(dirname).rglob('*.exe'):\n",
    "        print(p)\n",
    "\n",
    "print(search(path1))"
   ]
  },
  {
   "cell_type": "code",
   "execution_count": 2,
   "id": "18f9e23e",
   "metadata": {},
   "outputs": [],
   "source": [
    "import os\n",
    "import os.path as osp\n",
    "import hashlib\n",
    "import numpy as np\n",
    "\n",
    "def filehash(filepath, blocksize = 2**20):\n",
    "    sha256 = hashlib.sha256()\n",
    "    with open(filepath, 'rb') as fp:\n",
    "        while True:\n",
    "            data = fp.read(blocksize)\n",
    "            if not data:\n",
    "                break\n",
    "            sha256.update(data)\n",
    "    return sha256.hexdigest()\n",
    "\n",
    "def gethashdict(path):\n",
    "    size = []\n",
    "    sha = []\n",
    "    name = []\n",
    "    hashdict = {}\n",
    "    for root, dirs, files in os.walk(path):\n",
    "        for fpath in [osp.join(root, f) for f in files]:\n",
    "            if fpath.endswith(\".exe\"): ## only for binary files\n",
    "                \n",
    "                size.append(osp.getsize(fpath))\n",
    "                sha.append(filehash(fpath))\n",
    "                name.append(osp.relpath(fpath, path))\n",
    "        \n",
    "        return sha, name, size\n",
    "        \n",
    "        print('name: %s, size: %s byte, hash: %s\\n' % (name, size, sha))        \n",
    "        print('\\n')\n",
    "\n",
    "#해시값이 같은 파일이 존재 가능함, 파일명이나 byte등을 가지고 한 번 더 비교하여 출력\n",
    "def hashcompare(dick):\n",
    "\n",
    "    for key, value in dict:\n",
    "        if key in key2:         #hash 값은 같을 수 있다\n",
    "            if size1 != size2:\n",
    "                print(\"%s, %s diffrent file\" + name1, name2)\n",
    "            else:\n",
    "                print(\"%s, %s same contents\" + name1, name2)\n",
    "    "
   ]
  },
  {
   "cell_type": "code",
   "execution_count": 4,
   "id": "54813f92",
   "metadata": {},
   "outputs": [
    {
     "name": "stdout",
     "output_type": "stream",
     "text": [
      "\t$$ Hash Display $$\n",
      "\n",
      "filename, [size], [HashValue(sha256)], \n",
      "\n",
      "Original list : [1, 3, 4, 3, 6, 7]\n",
      "New indices list : [1, 3, 4]\n"
     ]
    }
   ],
   "source": [
    "print(\"\"\"\\t$$ Hash Display $$\\n\n",
    "filename, [size], [HashValue(sha256)], \\n\"\"\")\n",
    "\n",
    "path1 = \"C:\\\\Users\\\\teddy\\\\files1\"\n",
    "path2 = \"C:\\\\Users\\\\teddy\\\\files2\"\n",
    "\n",
    "# gethashdict(path1)\n",
    "# gethash(path2)\n",
    "\n",
    "test_list = [1, 3, 4, 3, 6, 7]\n",
    "print(\"Original list : \" + str(test_list))\n",
    "res_list = list(filter(lambda x: x in test_list, range(len(test_list))))\n",
    "print(\"New indices list : \" + str(res_list))\n",
    "\n",
    "# Original list : [1, 3, 4, 3, 6, 7]\n",
    "# New indices list : [1, 3]"
   ]
  },
  {
   "cell_type": "code",
   "execution_count": null,
   "id": "d92c5c09",
   "metadata": {},
   "outputs": [],
   "source": []
  },
  {
   "cell_type": "code",
   "execution_count": 34,
   "id": "a7abae07",
   "metadata": {},
   "outputs": [
    {
     "name": "stdout",
     "output_type": "stream",
     "text": [
      "T: sisinfo.exe\n",
      "\n",
      "R: 123.txt\n",
      "\n"
     ]
    }
   ],
   "source": [
    "from pathlib import Path\n",
    "\n",
    "Test = Path(\"C:\\\\Users\\\\teddy\\\\files1\")\n",
    "Real = Path(\"C:\\\\Users\\\\teddy\\\\files2\")\n",
    "\n",
    "test_files = {path.relative_to(Test) for path in Test.rglob('*') if path.is_file()}\n",
    "real_files = {path.relative_to(Real) for path in Real.rglob('*') if path.is_file()}\n",
    "\n",
    "for file in test_files - real_files:\n",
    "    print('T:', file)\n",
    "\n",
    "print()\n",
    "for file in real_files - test_files:\n",
    "    print('R:', file)\n",
    "\n",
    "print()\n",
    "for file in test_files & real_files:\n",
    "    t = Path(Test / file)\n",
    "    r = Path(Real / file)\n",
    "    if t.stat().st_size != r.stat().st_size and t.read_bytes() != r.read_bytes():\n",
    "        print('X:', file)"
   ]
  },
  {
   "cell_type": "code",
   "execution_count": 116,
   "id": "d92cea58",
   "metadata": {},
   "outputs": [
    {
     "name": "stdout",
     "output_type": "stream",
     "text": [
      "p1: sisinfo.exe\n",
      "p2: 123.txt\n"
     ]
    }
   ],
   "source": [
    "import filecmp\n",
    "\n",
    "path1 = \"C:\\\\Users\\\\teddy\\\\files1\"\n",
    "path2 = \"C:\\\\Users\\\\teddy\\\\files2\"\n",
    "\n",
    "fd = filecmp.dircmp(path1, path2)\n",
    "\n",
    "for p1 in fd.left_only:\n",
    "    print(\"p1: %s\" % a)\n",
    "\n",
    "for p2 in fd.right_only:\n",
    "    print(\"p2: %s\" % b)\n",
    "\n",
    "for x in fd.diff_files:\n",
    "    print(\"x: %s\" % x)"
   ]
  },
  {
   "cell_type": "code",
   "execution_count": 6,
   "id": "263157ad",
   "metadata": {},
   "outputs": [
    {
     "ename": "AttributeError",
     "evalue": "'str' object has no attribute 'rglob'",
     "output_type": "error",
     "traceback": [
      "\u001b[1;31m---------------------------------------------------------------------------\u001b[0m",
      "\u001b[1;31mAttributeError\u001b[0m                            Traceback (most recent call last)",
      "\u001b[1;32m~\\AppData\\Local\\Temp/ipykernel_11388/3963321654.py\u001b[0m in \u001b[0;36m<module>\u001b[1;34m\u001b[0m\n\u001b[0;32m      4\u001b[0m \u001b[0mpath2\u001b[0m \u001b[1;33m=\u001b[0m \u001b[1;34m\"C:\\\\Users\\\\teddy\\\\files2\"\u001b[0m\u001b[1;33m\u001b[0m\u001b[1;33m\u001b[0m\u001b[0m\n\u001b[0;32m      5\u001b[0m \u001b[1;33m\u001b[0m\u001b[0m\n\u001b[1;32m----> 6\u001b[1;33m \u001b[0mpath1_files\u001b[0m \u001b[1;33m=\u001b[0m \u001b[1;33m{\u001b[0m\u001b[0mpath\u001b[0m\u001b[1;33m.\u001b[0m\u001b[0mrelative_to\u001b[0m\u001b[1;33m(\u001b[0m\u001b[0mpath1\u001b[0m\u001b[1;33m)\u001b[0m \u001b[1;32mfor\u001b[0m \u001b[0mpath\u001b[0m \u001b[1;32min\u001b[0m \u001b[0mpath1\u001b[0m\u001b[1;33m.\u001b[0m\u001b[0mrglob\u001b[0m\u001b[1;33m(\u001b[0m\u001b[1;34m'*'\u001b[0m\u001b[1;33m)\u001b[0m \u001b[1;32mif\u001b[0m \u001b[0mpath\u001b[0m\u001b[1;33m.\u001b[0m\u001b[0mis_file\u001b[0m\u001b[1;33m(\u001b[0m\u001b[1;33m)\u001b[0m\u001b[1;33m}\u001b[0m\u001b[1;33m\u001b[0m\u001b[1;33m\u001b[0m\u001b[0m\n\u001b[0m\u001b[0;32m      7\u001b[0m \u001b[0mpath2_files\u001b[0m \u001b[1;33m=\u001b[0m \u001b[1;33m{\u001b[0m\u001b[0mpath\u001b[0m\u001b[1;33m.\u001b[0m\u001b[0mrelative_to\u001b[0m\u001b[1;33m(\u001b[0m\u001b[0mpath2\u001b[0m\u001b[1;33m)\u001b[0m \u001b[1;32mfor\u001b[0m \u001b[0mpath\u001b[0m \u001b[1;32min\u001b[0m \u001b[0mpath2\u001b[0m\u001b[1;33m.\u001b[0m\u001b[0mrglob\u001b[0m\u001b[1;33m(\u001b[0m\u001b[1;34m'*'\u001b[0m\u001b[1;33m)\u001b[0m \u001b[1;32mif\u001b[0m \u001b[0mpath\u001b[0m\u001b[1;33m.\u001b[0m\u001b[0mis_file\u001b[0m\u001b[1;33m(\u001b[0m\u001b[1;33m)\u001b[0m\u001b[1;33m}\u001b[0m\u001b[1;33m\u001b[0m\u001b[1;33m\u001b[0m\u001b[0m\n\u001b[0;32m      8\u001b[0m \u001b[1;33m\u001b[0m\u001b[0m\n",
      "\u001b[1;31mAttributeError\u001b[0m: 'str' object has no attribute 'rglob'"
     ]
    }
   ],
   "source": [
    "from pathlib import Path\n",
    "\n",
    "path1 = \"C:\\\\Users\\\\teddy\\\\files1\"\n",
    "path2 = \"C:\\\\Users\\\\teddy\\\\files2\"\n",
    "\n",
    "path1_files = {path.relative_to(path1) for path in path1.rglob('*') if path.is_file()}\n",
    "path2_files = {path.relative_to(path2) for path in path2.rglob('*') if path.is_file()}\n",
    "\n",
    "for file in path1_files & path2_files:\n",
    "    \n",
    "    t = Path(path1 / file) # 경로결합\n",
    "    r = Path(path2 / file)\n",
    "    \n",
    "    \n",
    "    if filehash(t) == filehash(r):\n",
    "        if t.read_bytes() == r.read_bytes():\n",
    "            print(\"A and B 디렉토리의 해시, 바이트 값이 같은 중복파일\")\n",
    "            print(filehash(t), file, osp.getsize(t), \"byte\\n\")\n",
    "        else:\n",
    "            print(\"해시밸류가 같은 다른파일: \", file, osp.getsize(t), \"byte\\n\")\n",
    "            \n",
    "#https://seong6496.tistory.com/136"
   ]
  },
  {
   "cell_type": "code",
   "execution_count": null,
   "id": "59a468d0",
   "metadata": {},
   "outputs": [],
   "source": []
  }
 ],
 "metadata": {
  "kernelspec": {
   "display_name": "Python 3 (ipykernel)",
   "language": "python",
   "name": "python3"
  },
  "language_info": {
   "codemirror_mode": {
    "name": "ipython",
    "version": 3
   },
   "file_extension": ".py",
   "mimetype": "text/x-python",
   "name": "python",
   "nbconvert_exporter": "python",
   "pygments_lexer": "ipython3",
   "version": "3.9.7"
  }
 },
 "nbformat": 4,
 "nbformat_minor": 5
}
