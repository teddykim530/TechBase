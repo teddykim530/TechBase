{
 "cells": [
  {
   "cell_type": "code",
   "execution_count": 5,
   "id": "3dd8dec6",
   "metadata": {},
   "outputs": [
    {
     "data": {
      "text/plain": [
       "0"
      ]
     },
     "execution_count": 5,
     "metadata": {},
     "output_type": "execute_result"
    }
   ],
   "source": [
    "import os\n",
    "\n",
    "os.system('C:\\\\Users\\\\teddy\\\\source\\\\repos\\\\Project4\\\\x64\\\\Debug\\\\Project4.exe')"
   ]
  },
  {
   "cell_type": "code",
   "execution_count": 6,
   "id": "2a2a7fda",
   "metadata": {},
   "outputs": [
    {
     "name": "stdout",
     "output_type": "stream",
     "text": [
      "hello\n"
     ]
    }
   ],
   "source": [
    "print(\"hello\")"
   ]
  },
  {
   "cell_type": "code",
   "execution_count": 14,
   "id": "fe2c13a6",
   "metadata": {
    "scrolled": false
   },
   "outputs": [
    {
     "name": "stdout",
     "output_type": "stream",
     "text": [
      "connected!!\n",
      "공개\n",
      "다운로드\n",
      "문서\n",
      "바탕화면\n",
      "비디오\n",
      "사진\n",
      "음악\n",
      "템플릿\n",
      "\n"
     ]
    }
   ],
   "source": [
    "import paramiko\n",
    "\n",
    "try:\n",
    "    ssh = paramiko.SSHClient()\n",
    "    ssh.set_missing_host_key_policy(paramiko.AutoAddPolicy)\n",
    "    ssh.connect(\"127.0.0.1\", port=\"22\", username=\"teddy\", password=\"gusdn147\")\n",
    "    print(\"connected!!\")\n",
    "    \n",
    "    stdin, stdout, stderr = ssh.exec_command(\"ls\")\n",
    "    lines = stdout.readlines()\n",
    "    resultData = ''.join(lines)\n",
    "    \n",
    "    print(resultData)\n",
    "                                                                            \n",
    "    ssh.close()\n",
    "    \n",
    "except Exception as err:\n",
    "        print(err)"
   ]
  },
  {
   "cell_type": "code",
   "execution_count": null,
   "id": "4823c891",
   "metadata": {},
   "outputs": [],
   "source": [
    "def file_upload(sftp, src_path, dest_path):\n",
    "    mkdir_p(sftp, dest_path)\n",
    "    try:\n",
    "        sftp.put(src_path, dest_path)\n",
    "    except Exception as e:\n",
    "        print(\"fail to upload \" + src_path + \" ==> \" + dest_path)\n",
    "        raise e\n",
    "    print(\"success to upload \" + src_path + \" ==> \" + dest_path)\n",
    "\n",
    "# sftp 상에 directory를 업로드한다.\n",
    "# src_directory, dest_directory 모두 directory 경로여야 한다.\n",
    "# dest_directory에 src_directory가 포함되어 복사된다.\n",
    "# 즉, src_directory에 CTRL+C, dest_directory에 CTRL+V한 효과가 있다.\n",
    "\n",
    "def directory_upload(sftp, src_directory, dest_directory):\n",
    "    mkdir_p(sftp, dest_directory, True)\n",
    "    cwd = os.getcwd()\n",
    "    os.chdir(os.path.split(src_directory)[0])\n",
    "    parent=os.path.split(src_directory)[1]\n",
    "    is_window=(platform.system() == \"Windows\")\n",
    "    for walker in os.walk(parent):\n",
    "        try:\n",
    "            for file in walker[2]:\n",
    "                pathname=os.path.join(dest_directory, walker[0], file)\n",
    "                if (True == is_window):\n",
    "                    pathname=pathname.replace('\\\\', '/')\n",
    "                    file_upload(sftp, os.path.join(walker[0],file), pathname)\n",
    "        except Exception as e:\n",
    "            print(e)\n",
    "            raise e\n"
   ]
  }
 ],
 "metadata": {
  "kernelspec": {
   "display_name": "Python 3 (ipykernel)",
   "language": "python",
   "name": "python3"
  },
  "language_info": {
   "codemirror_mode": {
    "name": "ipython",
    "version": 3
   },
   "file_extension": ".py",
   "mimetype": "text/x-python",
   "name": "python",
   "nbconvert_exporter": "python",
   "pygments_lexer": "ipython3",
   "version": "3.9.7"
  }
 },
 "nbformat": 4,
 "nbformat_minor": 5
}
