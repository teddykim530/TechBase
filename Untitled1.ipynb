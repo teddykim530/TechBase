{
 "cells": [
  {
   "cell_type": "code",
   "execution_count": 1,
   "id": "fd209f58",
   "metadata": {},
   "outputs": [
    {
     "data": {
      "text/plain": [
       "{'blake2b',\n",
       " 'blake2s',\n",
       " 'md4',\n",
       " 'md5',\n",
       " 'md5-sha1',\n",
       " 'mdc2',\n",
       " 'ripemd160',\n",
       " 'sha1',\n",
       " 'sha224',\n",
       " 'sha256',\n",
       " 'sha384',\n",
       " 'sha3_224',\n",
       " 'sha3_256',\n",
       " 'sha3_384',\n",
       " 'sha3_512',\n",
       " 'sha512',\n",
       " 'sha512_224',\n",
       " 'sha512_256',\n",
       " 'shake_128',\n",
       " 'shake_256',\n",
       " 'sm3',\n",
       " 'whirlpool'}"
      ]
     },
     "execution_count": 1,
     "metadata": {},
     "output_type": "execute_result"
    }
   ],
   "source": [
    "import hashlib\n",
    "hashlib.algorithms_available"
   ]
  },
  {
   "cell_type": "code",
   "execution_count": 3,
   "id": "03172a93",
   "metadata": {},
   "outputs": [
    {
     "name": "stdout",
     "output_type": "stream",
     "text": [
      "8c06c6bc1af6dfe7ed032e2e0b08fcd41d55fb9017496135f5b1d2ec227f1c7b\n"
     ]
    }
   ],
   "source": [
    "path = \"C:\\\\Users\\\\teddy\\\\TechBase\\\\sisinfo.exe\" \n",
    "getHash(path)"
   ]
  },
  {
   "cell_type": "code",
   "execution_count": 117,
   "id": "fbe711e6",
   "metadata": {},
   "outputs": [
    {
     "name": "stdout",
     "output_type": "stream",
     "text": [
      "exe file list: ['filelist.exe', 'sisinfo.exe']\n"
     ]
    }
   ],
   "source": [
    "# prototyping\n",
    "import os\n",
    "\n",
    "path = \"C:/Users/teddy/files\"\n",
    "file_list = os.listdir(path)\n",
    "file_list_exe = [file for file in file_list if file.endswith(\".exe\")]\n",
    "\n",
    "print (\"exe file list: {}\".format(file_list_exe))"
   ]
  },
  {
   "cell_type": "code",
   "execution_count": 116,
   "id": "7299c4b6",
   "metadata": {},
   "outputs": [
    {
     "name": "stdout",
     "output_type": "stream",
     "text": [
      "['filelist.exe', 'sisinfo.exe', 'testtest.txt']\n"
     ]
    }
   ],
   "source": [
    "# prototyping\n",
    "\n",
    "import os\n",
    "import os.path\n",
    "\n",
    "path = \"C:\\\\Users\\\\teddy\\\\files\"\n",
    "file_list = os.listdir(path)\n",
    "\n",
    "print(file_list)"
   ]
  },
  {
   "cell_type": "code",
   "execution_count": 112,
   "id": "0ff55ccf",
   "metadata": {},
   "outputs": [],
   "source": [
    "# prototyping\n",
    "\n",
    "import hashlib\n",
    "\n",
    "def sha(filepath, blocksize=8192):\n",
    "    sha_1 = hashlib.sha1()\n",
    "    try:\n",
    "        f = open(filepath, \"rb\")\n",
    "    except IOError as e:\n",
    "        print(\"file open error\", e)\n",
    "        return\n",
    "    while True:\n",
    "        buf = f.read(blocksize)\n",
    "        if not buf:\n",
    "            break\n",
    "        sha_1.update(buf)\n",
    "    return sha_1.hexdigest()"
   ]
  },
  {
   "cell_type": "code",
   "execution_count": 113,
   "id": "354cacdb",
   "metadata": {},
   "outputs": [
    {
     "data": {
      "text/plain": [
       "'b05eec1a5acedda1b4162f4167cb0500747c59e4'"
      ]
     },
     "execution_count": 113,
     "metadata": {},
     "output_type": "execute_result"
    }
   ],
   "source": [
    "sha(\"C:\\\\Users\\\\teddy\\\\files\\\\sisinfo.exe\")"
   ]
  },
  {
   "cell_type": "code",
   "execution_count": null,
   "id": "2fee0d76",
   "metadata": {},
   "outputs": [],
   "source": [
    "###############################"
   ]
  },
  {
   "cell_type": "code",
   "execution_count": 171,
   "id": "5be0de66",
   "metadata": {},
   "outputs": [],
   "source": [
    "import os\n",
    "import os.path as osp\n",
    "import hashlib\n",
    "import numpy as np\n",
    "\n",
    "def filehash(filepath):\n",
    "    blocksize = 1024\n",
    "    sha = hashlib.sha256()\n",
    "    with open(filepath, 'rb') as fp:\n",
    "        while True:\n",
    "            data = fp.read(blocksize)\n",
    "            if not data:\n",
    "                break\n",
    "            sha.update(data)\n",
    "    return sha.hexdigest() \n",
    "\n",
    "def gethash(path):\n",
    "    size = []\n",
    "    sha = []\n",
    "    name = []\n",
    "    print(\"\"\"\\t$$ Hash Display $$\\n\n",
    "size, HashValue(sha256), filename \\n\"\"\")\n",
    "    for root, dirs, files in os.walk(path):\n",
    "        for fpath in [osp.join(root, f) for f in files]:\n",
    "            if fpath.endswith(\".exe\"): ## only for binary files\n",
    "                size.append(osp.getsize(fpath))\n",
    "                sha.append(filehash(fpath))\n",
    "                name.append(osp.relpath(fpath, path))\n",
    "                print('%s, %s byte, \\n%s\\n' % (name, size, sha))\n",
    "        print('\\n')\n",
    "                \n",
    "def hashcompare(list1, list2):\n",
    "    sorted(list1), sorted(list2)\n",
    "    print(\"same file\")\n",
    "    for size1, sha2, name1, size1, sha2, name2 in list1, list2:\n",
    "        if sha1 in sha2:\n",
    "            if name1 in name2:\n",
    "                print(\"same file\")\n",
    "            else:\n",
    "                print(\"same contents with not the same name\")\n",
    "    "
   ]
  },
  {
   "cell_type": "code",
   "execution_count": 169,
   "id": "86c46076",
   "metadata": {},
   "outputs": [
    {
     "name": "stdout",
     "output_type": "stream",
     "text": [
      "\t$$ Hash Display $$\n",
      "\n",
      "size, HashValue(sha256), filename \n",
      "\n",
      "['filelist.exe'], [143546] byte, \n",
      "['a4cc45c4ce86306ee22bc9cb09749a35e24a14f52eaf6ab294944e6d604a6c5b']\n",
      "\n",
      "['filelist.exe', 'sisinfo.exe'], [143546, 109725] byte, \n",
      "['a4cc45c4ce86306ee22bc9cb09749a35e24a14f52eaf6ab294944e6d604a6c5b', '8c06c6bc1af6dfe7ed032e2e0b08fcd41d55fb9017496135f5b1d2ec227f1c7b']\n",
      "\n",
      "\n",
      "\n",
      "\t$$ Hash Display $$\n",
      "\n",
      "size, HashValue(sha256), filename \n",
      "\n",
      "['filelist.exe'], [143546] byte, \n",
      "['a4cc45c4ce86306ee22bc9cb09749a35e24a14f52eaf6ab294944e6d604a6c5b']\n",
      "\n",
      "\n",
      "\n"
     ]
    }
   ],
   "source": [
    "path1 = \"C:\\\\Users\\\\teddy\\\\files1\"\n",
    "path2 = \"C:\\\\Users\\\\teddy\\\\files2\"\n",
    "\n",
    "gethash(path1)\n",
    "gethash(path2)"
   ]
  },
  {
   "cell_type": "code",
   "execution_count": 172,
   "id": "666f6520",
   "metadata": {},
   "outputs": [
    {
     "name": "stdout",
     "output_type": "stream",
     "text": [
      "\t$$ Hash Display $$\n",
      "\n",
      "size, HashValue(sha256), filename \n",
      "\n",
      "['filelist.exe'], [143546] byte, \n",
      "['a4cc45c4ce86306ee22bc9cb09749a35e24a14f52eaf6ab294944e6d604a6c5b']\n",
      "\n",
      "['filelist.exe', 'sisinfo.exe'], [143546, 109725] byte, \n",
      "['a4cc45c4ce86306ee22bc9cb09749a35e24a14f52eaf6ab294944e6d604a6c5b', '8c06c6bc1af6dfe7ed032e2e0b08fcd41d55fb9017496135f5b1d2ec227f1c7b']\n",
      "\n",
      "\n",
      "\n",
      "\t$$ Hash Display $$\n",
      "\n",
      "size, HashValue(sha256), filename \n",
      "\n",
      "['filelist.exe'], [143546] byte, \n",
      "['a4cc45c4ce86306ee22bc9cb09749a35e24a14f52eaf6ab294944e6d604a6c5b']\n",
      "\n",
      "\n",
      "\n"
     ]
    },
    {
     "ename": "TypeError",
     "evalue": "'NoneType' object is not iterable",
     "output_type": "error",
     "traceback": [
      "\u001b[1;31m---------------------------------------------------------------------------\u001b[0m",
      "\u001b[1;31mTypeError\u001b[0m                                 Traceback (most recent call last)",
      "\u001b[1;32m~\\AppData\\Local\\Temp/ipykernel_12600/2268263832.py\u001b[0m in \u001b[0;36m<module>\u001b[1;34m\u001b[0m\n\u001b[1;32m----> 1\u001b[1;33m \u001b[0mhashcompare\u001b[0m\u001b[1;33m(\u001b[0m\u001b[0mgethash\u001b[0m\u001b[1;33m(\u001b[0m\u001b[0mpath1\u001b[0m\u001b[1;33m)\u001b[0m\u001b[1;33m,\u001b[0m \u001b[0mgethash\u001b[0m\u001b[1;33m(\u001b[0m\u001b[0mpath2\u001b[0m\u001b[1;33m)\u001b[0m\u001b[1;33m)\u001b[0m\u001b[1;33m\u001b[0m\u001b[1;33m\u001b[0m\u001b[0m\n\u001b[0m",
      "\u001b[1;32m~\\AppData\\Local\\Temp/ipykernel_12600/4054167801.py\u001b[0m in \u001b[0;36mhashcompare\u001b[1;34m(list1, list2)\u001b[0m\n\u001b[0;32m     31\u001b[0m \u001b[1;33m\u001b[0m\u001b[0m\n\u001b[0;32m     32\u001b[0m \u001b[1;32mdef\u001b[0m \u001b[0mhashcompare\u001b[0m\u001b[1;33m(\u001b[0m\u001b[0mlist1\u001b[0m\u001b[1;33m,\u001b[0m \u001b[0mlist2\u001b[0m\u001b[1;33m)\u001b[0m\u001b[1;33m:\u001b[0m\u001b[1;33m\u001b[0m\u001b[1;33m\u001b[0m\u001b[0m\n\u001b[1;32m---> 33\u001b[1;33m     \u001b[0msorted\u001b[0m\u001b[1;33m(\u001b[0m\u001b[0mlist1\u001b[0m\u001b[1;33m)\u001b[0m\u001b[1;33m,\u001b[0m \u001b[0msorted\u001b[0m\u001b[1;33m(\u001b[0m\u001b[0mlist2\u001b[0m\u001b[1;33m)\u001b[0m\u001b[1;33m\u001b[0m\u001b[1;33m\u001b[0m\u001b[0m\n\u001b[0m\u001b[0;32m     34\u001b[0m     \u001b[0mprint\u001b[0m\u001b[1;33m(\u001b[0m\u001b[1;34m\"same file\"\u001b[0m\u001b[1;33m)\u001b[0m\u001b[1;33m\u001b[0m\u001b[1;33m\u001b[0m\u001b[0m\n\u001b[0;32m     35\u001b[0m     \u001b[1;32mfor\u001b[0m \u001b[0msize1\u001b[0m\u001b[1;33m,\u001b[0m \u001b[0msha2\u001b[0m\u001b[1;33m,\u001b[0m \u001b[0mname1\u001b[0m\u001b[1;33m,\u001b[0m \u001b[0msize1\u001b[0m\u001b[1;33m,\u001b[0m \u001b[0msha2\u001b[0m\u001b[1;33m,\u001b[0m \u001b[0mname2\u001b[0m \u001b[1;32min\u001b[0m \u001b[0mlist1\u001b[0m\u001b[1;33m,\u001b[0m \u001b[0mlist2\u001b[0m\u001b[1;33m:\u001b[0m\u001b[1;33m\u001b[0m\u001b[1;33m\u001b[0m\u001b[0m\n",
      "\u001b[1;31mTypeError\u001b[0m: 'NoneType' object is not iterable"
     ]
    }
   ],
   "source": [
    "hashcompare(gethash(path1), gethash(path2))"
   ]
  },
  {
   "cell_type": "code",
   "execution_count": null,
   "id": "9b08b537",
   "metadata": {},
   "outputs": [],
   "source": []
  }
 ],
 "metadata": {
  "kernelspec": {
   "display_name": "Python 3 (ipykernel)",
   "language": "python",
   "name": "python3"
  },
  "language_info": {
   "codemirror_mode": {
    "name": "ipython",
    "version": 3
   },
   "file_extension": ".py",
   "mimetype": "text/x-python",
   "name": "python",
   "nbconvert_exporter": "python",
   "pygments_lexer": "ipython3",
   "version": "3.9.7"
  }
 },
 "nbformat": 4,
 "nbformat_minor": 5
}
